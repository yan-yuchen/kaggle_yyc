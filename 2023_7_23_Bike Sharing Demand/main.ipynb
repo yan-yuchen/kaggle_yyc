{
 "cells": [
  {
   "cell_type": "code",
   "execution_count": 1,
   "id": "e43432dd",
   "metadata": {
    "ExecuteTime": {
     "end_time": "2022-05-26T04:50:51.839508Z",
     "start_time": "2022-05-26T04:50:47.392782Z"
    },
    "execution": {
     "iopub.execute_input": "2022-07-15T09:16:39.497579Z",
     "iopub.status.busy": "2022-07-15T09:16:39.497130Z",
     "iopub.status.idle": "2022-07-15T09:16:40.643644Z",
     "shell.execute_reply": "2022-07-15T09:16:40.642444Z"
    },
    "papermill": {
     "duration": 1.16441,
     "end_time": "2022-07-15T09:16:40.646869",
     "exception": false,
     "start_time": "2022-07-15T09:16:39.482459",
     "status": "completed"
    },
    "tags": []
   },
   "outputs": [],
   "source": [
    "import pandas as pd\n",
    "import numpy as np\n",
    "import seaborn as sns\n",
    "import matplotlib.pyplot as plt\n",
    "import warnings\n",
    "warnings.filterwarnings(\"ignore\")"
   ]
  },
  {
   "cell_type": "markdown",
   "id": "cb753189",
   "metadata": {},
   "source": [
    "reference：https://www.kaggle.com/code/maquej/bike-sharing-demand0714"
   ]
  },
  {
   "cell_type": "markdown",
   "id": "05553b1c",
   "metadata": {
    "papermill": {
     "duration": 0.012337,
     "end_time": "2022-07-15T09:16:40.671692",
     "exception": false,
     "start_time": "2022-07-15T09:16:40.659355",
     "status": "completed"
    },
    "tags": []
   },
   "source": [
    "### 读入数据并预处理\n",
    "对因变量取对数，检查缺失值"
   ]
  },
  {
   "cell_type": "code",
   "execution_count": 2,
   "id": "510f1377",
   "metadata": {
    "ExecuteTime": {
     "end_time": "2022-05-25T13:03:57.648729Z",
     "start_time": "2022-05-25T13:03:57.447134Z"
    },
    "execution": {
     "iopub.execute_input": "2022-07-15T09:16:40.697041Z",
     "iopub.status.busy": "2022-07-15T09:16:40.696306Z",
     "iopub.status.idle": "2022-07-15T09:16:40.766203Z",
     "shell.execute_reply": "2022-07-15T09:16:40.765150Z"
    },
    "papermill": {
     "duration": 0.085636,
     "end_time": "2022-07-15T09:16:40.768943",
     "exception": false,
     "start_time": "2022-07-15T09:16:40.683307",
     "status": "completed"
    },
    "tags": []
   },
   "outputs": [],
   "source": [
    "train = pd.read_csv('/kaggle/input/bike-sharing-demand/train.csv')\n",
    "test = pd.read_csv('/kaggle/input/bike-sharing-demand/test.csv')\n",
    "#train = pd.read_csv('train.csv')\n",
    "#test = pd.read_csv('test.csv')"
   ]
  },
  {
   "cell_type": "code",
   "execution_count": 3,
   "id": "585a67ec",
   "metadata": {
    "ExecuteTime": {
     "end_time": "2022-05-25T13:03:57.704126Z",
     "start_time": "2022-05-25T13:03:57.651837Z"
    },
    "execution": {
     "iopub.execute_input": "2022-07-15T09:16:40.794262Z",
     "iopub.status.busy": "2022-07-15T09:16:40.793864Z",
     "iopub.status.idle": "2022-07-15T09:16:40.818509Z",
     "shell.execute_reply": "2022-07-15T09:16:40.817399Z"
    },
    "papermill": {
     "duration": 0.04101,
     "end_time": "2022-07-15T09:16:40.821698",
     "exception": false,
     "start_time": "2022-07-15T09:16:40.780688",
     "status": "completed"
    },
    "tags": []
   },
   "outputs": [
    {
     "data": {
      "text/html": [
       "<div>\n",
       "<style scoped>\n",
       "    .dataframe tbody tr th:only-of-type {\n",
       "        vertical-align: middle;\n",
       "    }\n",
       "\n",
       "    .dataframe tbody tr th {\n",
       "        vertical-align: top;\n",
       "    }\n",
       "\n",
       "    .dataframe thead th {\n",
       "        text-align: right;\n",
       "    }\n",
       "</style>\n",
       "<table border=\"1\" class=\"dataframe\">\n",
       "  <thead>\n",
       "    <tr style=\"text-align: right;\">\n",
       "      <th></th>\n",
       "      <th>datetime</th>\n",
       "      <th>season</th>\n",
       "      <th>holiday</th>\n",
       "      <th>workingday</th>\n",
       "      <th>weather</th>\n",
       "      <th>temp</th>\n",
       "      <th>atemp</th>\n",
       "      <th>humidity</th>\n",
       "      <th>windspeed</th>\n",
       "      <th>casual</th>\n",
       "      <th>registered</th>\n",
       "      <th>count</th>\n",
       "    </tr>\n",
       "  </thead>\n",
       "  <tbody>\n",
       "    <tr>\n",
       "      <th>0</th>\n",
       "      <td>2011-01-01 00:00:00</td>\n",
       "      <td>1</td>\n",
       "      <td>0</td>\n",
       "      <td>0</td>\n",
       "      <td>1</td>\n",
       "      <td>9.84</td>\n",
       "      <td>14.395</td>\n",
       "      <td>81</td>\n",
       "      <td>0.0</td>\n",
       "      <td>3</td>\n",
       "      <td>13</td>\n",
       "      <td>16</td>\n",
       "    </tr>\n",
       "    <tr>\n",
       "      <th>1</th>\n",
       "      <td>2011-01-01 01:00:00</td>\n",
       "      <td>1</td>\n",
       "      <td>0</td>\n",
       "      <td>0</td>\n",
       "      <td>1</td>\n",
       "      <td>9.02</td>\n",
       "      <td>13.635</td>\n",
       "      <td>80</td>\n",
       "      <td>0.0</td>\n",
       "      <td>8</td>\n",
       "      <td>32</td>\n",
       "      <td>40</td>\n",
       "    </tr>\n",
       "    <tr>\n",
       "      <th>2</th>\n",
       "      <td>2011-01-01 02:00:00</td>\n",
       "      <td>1</td>\n",
       "      <td>0</td>\n",
       "      <td>0</td>\n",
       "      <td>1</td>\n",
       "      <td>9.02</td>\n",
       "      <td>13.635</td>\n",
       "      <td>80</td>\n",
       "      <td>0.0</td>\n",
       "      <td>5</td>\n",
       "      <td>27</td>\n",
       "      <td>32</td>\n",
       "    </tr>\n",
       "    <tr>\n",
       "      <th>3</th>\n",
       "      <td>2011-01-01 03:00:00</td>\n",
       "      <td>1</td>\n",
       "      <td>0</td>\n",
       "      <td>0</td>\n",
       "      <td>1</td>\n",
       "      <td>9.84</td>\n",
       "      <td>14.395</td>\n",
       "      <td>75</td>\n",
       "      <td>0.0</td>\n",
       "      <td>3</td>\n",
       "      <td>10</td>\n",
       "      <td>13</td>\n",
       "    </tr>\n",
       "    <tr>\n",
       "      <th>4</th>\n",
       "      <td>2011-01-01 04:00:00</td>\n",
       "      <td>1</td>\n",
       "      <td>0</td>\n",
       "      <td>0</td>\n",
       "      <td>1</td>\n",
       "      <td>9.84</td>\n",
       "      <td>14.395</td>\n",
       "      <td>75</td>\n",
       "      <td>0.0</td>\n",
       "      <td>0</td>\n",
       "      <td>1</td>\n",
       "      <td>1</td>\n",
       "    </tr>\n",
       "  </tbody>\n",
       "</table>\n",
       "</div>"
      ],
      "text/plain": [
       "              datetime  season  holiday  workingday  weather  temp   atemp  \\\n",
       "0  2011-01-01 00:00:00       1        0           0        1  9.84  14.395   \n",
       "1  2011-01-01 01:00:00       1        0           0        1  9.02  13.635   \n",
       "2  2011-01-01 02:00:00       1        0           0        1  9.02  13.635   \n",
       "3  2011-01-01 03:00:00       1        0           0        1  9.84  14.395   \n",
       "4  2011-01-01 04:00:00       1        0           0        1  9.84  14.395   \n",
       "\n",
       "   humidity  windspeed  casual  registered  count  \n",
       "0        81        0.0       3          13     16  \n",
       "1        80        0.0       8          32     40  \n",
       "2        80        0.0       5          27     32  \n",
       "3        75        0.0       3          10     13  \n",
       "4        75        0.0       0           1      1  "
      ]
     },
     "execution_count": 3,
     "metadata": {},
     "output_type": "execute_result"
    }
   ],
   "source": [
    "train.head()"
   ]
  },
  {
   "cell_type": "code",
   "execution_count": 4,
   "id": "d6c443c3",
   "metadata": {
    "execution": {
     "iopub.execute_input": "2022-07-15T09:16:40.848757Z",
     "iopub.status.busy": "2022-07-15T09:16:40.847983Z",
     "iopub.status.idle": "2022-07-15T09:16:40.875944Z",
     "shell.execute_reply": "2022-07-15T09:16:40.874825Z"
    },
    "papermill": {
     "duration": 0.04463,
     "end_time": "2022-07-15T09:16:40.878341",
     "exception": false,
     "start_time": "2022-07-15T09:16:40.833711",
     "status": "completed"
    },
    "tags": []
   },
   "outputs": [
    {
     "data": {
      "text/html": [
       "<div>\n",
       "<style scoped>\n",
       "    .dataframe tbody tr th:only-of-type {\n",
       "        vertical-align: middle;\n",
       "    }\n",
       "\n",
       "    .dataframe tbody tr th {\n",
       "        vertical-align: top;\n",
       "    }\n",
       "\n",
       "    .dataframe thead th {\n",
       "        text-align: right;\n",
       "    }\n",
       "</style>\n",
       "<table border=\"1\" class=\"dataframe\">\n",
       "  <thead>\n",
       "    <tr style=\"text-align: right;\">\n",
       "      <th></th>\n",
       "      <th>datetime</th>\n",
       "      <th>season</th>\n",
       "      <th>holiday</th>\n",
       "      <th>workingday</th>\n",
       "      <th>weather</th>\n",
       "      <th>temp</th>\n",
       "      <th>atemp</th>\n",
       "      <th>humidity</th>\n",
       "      <th>windspeed</th>\n",
       "      <th>casual</th>\n",
       "      <th>registered</th>\n",
       "      <th>count</th>\n",
       "      <th>casual_log</th>\n",
       "      <th>registered_log</th>\n",
       "      <th>count_log</th>\n",
       "    </tr>\n",
       "  </thead>\n",
       "  <tbody>\n",
       "    <tr>\n",
       "      <th>0</th>\n",
       "      <td>2011-01-01 00:00:00</td>\n",
       "      <td>1</td>\n",
       "      <td>0</td>\n",
       "      <td>0</td>\n",
       "      <td>1</td>\n",
       "      <td>9.84</td>\n",
       "      <td>14.395</td>\n",
       "      <td>81</td>\n",
       "      <td>0.0</td>\n",
       "      <td>3</td>\n",
       "      <td>13</td>\n",
       "      <td>16</td>\n",
       "      <td>1.386294</td>\n",
       "      <td>2.639057</td>\n",
       "      <td>2.833213</td>\n",
       "    </tr>\n",
       "    <tr>\n",
       "      <th>1</th>\n",
       "      <td>2011-01-01 01:00:00</td>\n",
       "      <td>1</td>\n",
       "      <td>0</td>\n",
       "      <td>0</td>\n",
       "      <td>1</td>\n",
       "      <td>9.02</td>\n",
       "      <td>13.635</td>\n",
       "      <td>80</td>\n",
       "      <td>0.0</td>\n",
       "      <td>8</td>\n",
       "      <td>32</td>\n",
       "      <td>40</td>\n",
       "      <td>2.197225</td>\n",
       "      <td>3.496508</td>\n",
       "      <td>3.713572</td>\n",
       "    </tr>\n",
       "    <tr>\n",
       "      <th>2</th>\n",
       "      <td>2011-01-01 02:00:00</td>\n",
       "      <td>1</td>\n",
       "      <td>0</td>\n",
       "      <td>0</td>\n",
       "      <td>1</td>\n",
       "      <td>9.02</td>\n",
       "      <td>13.635</td>\n",
       "      <td>80</td>\n",
       "      <td>0.0</td>\n",
       "      <td>5</td>\n",
       "      <td>27</td>\n",
       "      <td>32</td>\n",
       "      <td>1.791759</td>\n",
       "      <td>3.332205</td>\n",
       "      <td>3.496508</td>\n",
       "    </tr>\n",
       "    <tr>\n",
       "      <th>3</th>\n",
       "      <td>2011-01-01 03:00:00</td>\n",
       "      <td>1</td>\n",
       "      <td>0</td>\n",
       "      <td>0</td>\n",
       "      <td>1</td>\n",
       "      <td>9.84</td>\n",
       "      <td>14.395</td>\n",
       "      <td>75</td>\n",
       "      <td>0.0</td>\n",
       "      <td>3</td>\n",
       "      <td>10</td>\n",
       "      <td>13</td>\n",
       "      <td>1.386294</td>\n",
       "      <td>2.397895</td>\n",
       "      <td>2.639057</td>\n",
       "    </tr>\n",
       "    <tr>\n",
       "      <th>4</th>\n",
       "      <td>2011-01-01 04:00:00</td>\n",
       "      <td>1</td>\n",
       "      <td>0</td>\n",
       "      <td>0</td>\n",
       "      <td>1</td>\n",
       "      <td>9.84</td>\n",
       "      <td>14.395</td>\n",
       "      <td>75</td>\n",
       "      <td>0.0</td>\n",
       "      <td>0</td>\n",
       "      <td>1</td>\n",
       "      <td>1</td>\n",
       "      <td>0.000000</td>\n",
       "      <td>0.693147</td>\n",
       "      <td>0.693147</td>\n",
       "    </tr>\n",
       "  </tbody>\n",
       "</table>\n",
       "</div>"
      ],
      "text/plain": [
       "              datetime  season  holiday  workingday  weather  temp   atemp  \\\n",
       "0  2011-01-01 00:00:00       1        0           0        1  9.84  14.395   \n",
       "1  2011-01-01 01:00:00       1        0           0        1  9.02  13.635   \n",
       "2  2011-01-01 02:00:00       1        0           0        1  9.02  13.635   \n",
       "3  2011-01-01 03:00:00       1        0           0        1  9.84  14.395   \n",
       "4  2011-01-01 04:00:00       1        0           0        1  9.84  14.395   \n",
       "\n",
       "   humidity  windspeed  casual  registered  count  casual_log  registered_log  \\\n",
       "0        81        0.0       3          13     16    1.386294        2.639057   \n",
       "1        80        0.0       8          32     40    2.197225        3.496508   \n",
       "2        80        0.0       5          27     32    1.791759        3.332205   \n",
       "3        75        0.0       3          10     13    1.386294        2.397895   \n",
       "4        75        0.0       0           1      1    0.000000        0.693147   \n",
       "\n",
       "   count_log  \n",
       "0   2.833213  \n",
       "1   3.713572  \n",
       "2   3.496508  \n",
       "3   2.639057  \n",
       "4   0.693147  "
      ]
     },
     "execution_count": 4,
     "metadata": {},
     "output_type": "execute_result"
    }
   ],
   "source": [
    "#取对数：+1防止出现log0的情况\n",
    "for col in ['casual', 'registered', 'count']:\n",
    "    train['%s_log' % col] = np.log(train[col] + 1)\n",
    "\n",
    "train.head()"
   ]
  },
  {
   "cell_type": "code",
   "execution_count": 5,
   "id": "7e7bd260",
   "metadata": {
    "execution": {
     "iopub.execute_input": "2022-07-15T09:16:40.904686Z",
     "iopub.status.busy": "2022-07-15T09:16:40.903941Z",
     "iopub.status.idle": "2022-07-15T09:16:40.915921Z",
     "shell.execute_reply": "2022-07-15T09:16:40.914894Z"
    },
    "papermill": {
     "duration": 0.028,
     "end_time": "2022-07-15T09:16:40.918392",
     "exception": false,
     "start_time": "2022-07-15T09:16:40.890392",
     "status": "completed"
    },
    "tags": []
   },
   "outputs": [
    {
     "data": {
      "text/plain": [
       "datetime          0\n",
       "season            0\n",
       "holiday           0\n",
       "workingday        0\n",
       "weather           0\n",
       "temp              0\n",
       "atemp             0\n",
       "humidity          0\n",
       "windspeed         0\n",
       "casual            0\n",
       "registered        0\n",
       "count             0\n",
       "casual_log        0\n",
       "registered_log    0\n",
       "count_log         0\n",
       "dtype: int64"
      ]
     },
     "execution_count": 5,
     "metadata": {},
     "output_type": "execute_result"
    }
   ],
   "source": [
    "train.isna().sum()#没有缺失值，不需要填补"
   ]
  },
  {
   "cell_type": "markdown",
   "id": "600d9190",
   "metadata": {
    "papermill": {
     "duration": 0.0119,
     "end_time": "2022-07-15T09:16:40.943056",
     "exception": false,
     "start_time": "2022-07-15T09:16:40.931156",
     "status": "completed"
    },
    "tags": []
   },
   "source": [
    "### 处理日期\n",
    "从日期中提取月份、日期等信息，并将休假和工作日分开"
   ]
  },
  {
   "cell_type": "code",
   "execution_count": 6,
   "id": "5990c97f",
   "metadata": {
    "execution": {
     "iopub.execute_input": "2022-07-15T09:16:40.970561Z",
     "iopub.status.busy": "2022-07-15T09:16:40.969529Z",
     "iopub.status.idle": "2022-07-15T09:16:41.010019Z",
     "shell.execute_reply": "2022-07-15T09:16:41.008766Z"
    },
    "papermill": {
     "duration": 0.05743,
     "end_time": "2022-07-15T09:16:41.013288",
     "exception": false,
     "start_time": "2022-07-15T09:16:40.955858",
     "status": "completed"
    },
    "tags": []
   },
   "outputs": [],
   "source": [
    "dt = pd.DatetimeIndex(train['datetime'])\n",
    "train.set_index(dt, inplace=True)\n",
    "dtt = pd.DatetimeIndex(test['datetime'])\n",
    "test.set_index(dtt, inplace=True)\n",
    "def get_day(day_start):\n",
    "    day_end = day_start + pd.offsets.DateOffset(hours=23)\n",
    "    return pd.date_range(day_start, day_end, freq=\"H\")\n",
    "\n",
    "# 纳税日需要工作\n",
    "train.loc[get_day(pd.datetime(2011, 4, 15)), \"workingday\"] = 1\n",
    "train.loc[get_day(pd.datetime(2012, 4, 16)), \"workingday\"] = 1\n",
    "# 感恩节不需要工作\n",
    "test.loc[get_day(pd.datetime(2011, 11, 25)), \"workingday\"] = 0\n",
    "test.loc[get_day(pd.datetime(2012, 11, 23)), \"workingday\"] = 0\n",
    "# 圣诞节不需要工作\n",
    "test.loc[get_day(pd.datetime(2011, 12, 24)), \"workingday\"] = 0\n",
    "test.loc[get_day(pd.datetime(2011, 12, 31)), \"workingday\"] = 0\n",
    "test.loc[get_day(pd.datetime(2012, 12, 26)), \"workingday\"] = 0\n",
    "test.loc[get_day(pd.datetime(2012, 12, 31)), \"workingday\"] = 0\n",
    "\n",
    "#暴雨\n",
    "test.loc[get_day(pd.datetime(2012, 5, 21)), \"holiday\"] = 1\n",
    "#海啸\n",
    "train.loc[get_day(pd.datetime(2012, 6, 1)), \"holiday\"] = 1"
   ]
  },
  {
   "cell_type": "code",
   "execution_count": 7,
   "id": "d1972efe",
   "metadata": {
    "ExecuteTime": {
     "end_time": "2022-05-25T13:03:58.083139Z",
     "start_time": "2022-05-25T13:03:57.707311Z"
    },
    "execution": {
     "iopub.execute_input": "2022-07-15T09:16:41.039948Z",
     "iopub.status.busy": "2022-07-15T09:16:41.039480Z",
     "iopub.status.idle": "2022-07-15T09:16:41.079440Z",
     "shell.execute_reply": "2022-07-15T09:16:41.078212Z"
    },
    "papermill": {
     "duration": 0.056577,
     "end_time": "2022-07-15T09:16:41.082165",
     "exception": false,
     "start_time": "2022-07-15T09:16:41.025588",
     "status": "completed"
    },
    "tags": []
   },
   "outputs": [],
   "source": [
    "#提取年份、月份、日期等信息\n",
    "from datetime import datetime\n",
    "\n",
    "def time_process(df):\n",
    "    df['year'] = pd.DatetimeIndex(df.index).year\n",
    "    df['month'] = pd.DatetimeIndex(df.index).month\n",
    "    df['day'] = pd.DatetimeIndex(df.index).day\n",
    "    df['hour'] = pd.DatetimeIndex(df.index).hour\n",
    "    df['week'] = pd.DatetimeIndex(df.index).weekofyear\n",
    "    df['weekday'] = pd.DatetimeIndex(df.index).dayofweek\n",
    "    return df\n",
    "\n",
    "train = time_process(train)\n",
    "test = time_process(test)"
   ]
  },
  {
   "cell_type": "code",
   "execution_count": 8,
   "id": "7501b976",
   "metadata": {
    "execution": {
     "iopub.execute_input": "2022-07-15T09:16:41.109712Z",
     "iopub.status.busy": "2022-07-15T09:16:41.108938Z",
     "iopub.status.idle": "2022-07-15T09:16:41.133272Z",
     "shell.execute_reply": "2022-07-15T09:16:41.132086Z"
    },
    "papermill": {
     "duration": 0.040748,
     "end_time": "2022-07-15T09:16:41.135749",
     "exception": false,
     "start_time": "2022-07-15T09:16:41.095001",
     "status": "completed"
    },
    "tags": []
   },
   "outputs": [
    {
     "data": {
      "text/html": [
       "<div>\n",
       "<style scoped>\n",
       "    .dataframe tbody tr th:only-of-type {\n",
       "        vertical-align: middle;\n",
       "    }\n",
       "\n",
       "    .dataframe tbody tr th {\n",
       "        vertical-align: top;\n",
       "    }\n",
       "\n",
       "    .dataframe thead th {\n",
       "        text-align: right;\n",
       "    }\n",
       "</style>\n",
       "<table border=\"1\" class=\"dataframe\">\n",
       "  <thead>\n",
       "    <tr style=\"text-align: right;\">\n",
       "      <th></th>\n",
       "      <th>datetime</th>\n",
       "      <th>season</th>\n",
       "      <th>holiday</th>\n",
       "      <th>workingday</th>\n",
       "      <th>weather</th>\n",
       "      <th>temp</th>\n",
       "      <th>atemp</th>\n",
       "      <th>humidity</th>\n",
       "      <th>windspeed</th>\n",
       "      <th>casual</th>\n",
       "      <th>...</th>\n",
       "      <th>count</th>\n",
       "      <th>casual_log</th>\n",
       "      <th>registered_log</th>\n",
       "      <th>count_log</th>\n",
       "      <th>year</th>\n",
       "      <th>month</th>\n",
       "      <th>day</th>\n",
       "      <th>hour</th>\n",
       "      <th>week</th>\n",
       "      <th>weekday</th>\n",
       "    </tr>\n",
       "    <tr>\n",
       "      <th>datetime</th>\n",
       "      <th></th>\n",
       "      <th></th>\n",
       "      <th></th>\n",
       "      <th></th>\n",
       "      <th></th>\n",
       "      <th></th>\n",
       "      <th></th>\n",
       "      <th></th>\n",
       "      <th></th>\n",
       "      <th></th>\n",
       "      <th></th>\n",
       "      <th></th>\n",
       "      <th></th>\n",
       "      <th></th>\n",
       "      <th></th>\n",
       "      <th></th>\n",
       "      <th></th>\n",
       "      <th></th>\n",
       "      <th></th>\n",
       "      <th></th>\n",
       "      <th></th>\n",
       "    </tr>\n",
       "  </thead>\n",
       "  <tbody>\n",
       "    <tr>\n",
       "      <th>2011-01-01 00:00:00</th>\n",
       "      <td>2011-01-01 00:00:00</td>\n",
       "      <td>1</td>\n",
       "      <td>0</td>\n",
       "      <td>0</td>\n",
       "      <td>1</td>\n",
       "      <td>9.84</td>\n",
       "      <td>14.395</td>\n",
       "      <td>81</td>\n",
       "      <td>0.0</td>\n",
       "      <td>3</td>\n",
       "      <td>...</td>\n",
       "      <td>16</td>\n",
       "      <td>1.386294</td>\n",
       "      <td>2.639057</td>\n",
       "      <td>2.833213</td>\n",
       "      <td>2011</td>\n",
       "      <td>1</td>\n",
       "      <td>1</td>\n",
       "      <td>0</td>\n",
       "      <td>52</td>\n",
       "      <td>5</td>\n",
       "    </tr>\n",
       "    <tr>\n",
       "      <th>2011-01-01 01:00:00</th>\n",
       "      <td>2011-01-01 01:00:00</td>\n",
       "      <td>1</td>\n",
       "      <td>0</td>\n",
       "      <td>0</td>\n",
       "      <td>1</td>\n",
       "      <td>9.02</td>\n",
       "      <td>13.635</td>\n",
       "      <td>80</td>\n",
       "      <td>0.0</td>\n",
       "      <td>8</td>\n",
       "      <td>...</td>\n",
       "      <td>40</td>\n",
       "      <td>2.197225</td>\n",
       "      <td>3.496508</td>\n",
       "      <td>3.713572</td>\n",
       "      <td>2011</td>\n",
       "      <td>1</td>\n",
       "      <td>1</td>\n",
       "      <td>1</td>\n",
       "      <td>52</td>\n",
       "      <td>5</td>\n",
       "    </tr>\n",
       "  </tbody>\n",
       "</table>\n",
       "<p>2 rows × 21 columns</p>\n",
       "</div>"
      ],
      "text/plain": [
       "                                datetime  season  holiday  workingday  \\\n",
       "datetime                                                                \n",
       "2011-01-01 00:00:00  2011-01-01 00:00:00       1        0           0   \n",
       "2011-01-01 01:00:00  2011-01-01 01:00:00       1        0           0   \n",
       "\n",
       "                     weather  temp   atemp  humidity  windspeed  casual  ...  \\\n",
       "datetime                                                                 ...   \n",
       "2011-01-01 00:00:00        1  9.84  14.395        81        0.0       3  ...   \n",
       "2011-01-01 01:00:00        1  9.02  13.635        80        0.0       8  ...   \n",
       "\n",
       "                     count  casual_log  registered_log  count_log  year  \\\n",
       "datetime                                                                  \n",
       "2011-01-01 00:00:00     16    1.386294        2.639057   2.833213  2011   \n",
       "2011-01-01 01:00:00     40    2.197225        3.496508   3.713572  2011   \n",
       "\n",
       "                     month  day  hour  week  weekday  \n",
       "datetime                                              \n",
       "2011-01-01 00:00:00      1    1     0    52        5  \n",
       "2011-01-01 01:00:00      1    1     1    52        5  \n",
       "\n",
       "[2 rows x 21 columns]"
      ]
     },
     "execution_count": 8,
     "metadata": {},
     "output_type": "execute_result"
    }
   ],
   "source": [
    "train.head(2)"
   ]
  },
  {
   "cell_type": "markdown",
   "id": "1e6f18b4",
   "metadata": {
    "papermill": {
     "duration": 0.012202,
     "end_time": "2022-07-15T09:16:41.160748",
     "exception": false,
     "start_time": "2022-07-15T09:16:41.148546",
     "status": "completed"
    },
    "tags": []
   },
   "source": [
    "## 可视化分析\n",
    "### 1.一天中不同时间段的影响"
   ]
  },
  {
   "cell_type": "code",
   "execution_count": 9,
   "id": "ad23b3b0",
   "metadata": {
    "ExecuteTime": {
     "end_time": "2022-05-25T13:04:15.584906Z",
     "start_time": "2022-05-25T13:04:14.804326Z"
    },
    "execution": {
     "iopub.execute_input": "2022-07-15T09:16:41.188217Z",
     "iopub.status.busy": "2022-07-15T09:16:41.187310Z",
     "iopub.status.idle": "2022-07-15T09:16:41.736914Z",
     "shell.execute_reply": "2022-07-15T09:16:41.735632Z"
    },
    "papermill": {
     "duration": 0.56622,
     "end_time": "2022-07-15T09:16:41.739585",
     "exception": false,
     "start_time": "2022-07-15T09:16:41.173365",
     "status": "completed"
    },
    "tags": []
   },
   "outputs": [
    {
     "data": {
      "text/plain": [
       "<AxesSubplot:xlabel='hour', ylabel='count'>"
      ]
     },
     "execution_count": 9,
     "metadata": {},
     "output_type": "execute_result"
    },
    {
     "data": {
      "image/png": "[encoded data removed]",
      "text/plain": [
       "<Figure size 432x288 with 1 Axes>"
      ]
     },
     "metadata": {
      "needs_background": "light"
     },
     "output_type": "display_data"
    }
   ],
   "source": [
    "#工作日\n",
    "sns.boxplot(x='hour',y='count',data=train[train['workingday'] == 1])"
   ]
  },
  {
   "cell_type": "code",
   "execution_count": 10,
   "id": "4346027c",
   "metadata": {
    "execution": {
     "iopub.execute_input": "2022-07-15T09:16:41.769925Z",
     "iopub.status.busy": "2022-07-15T09:16:41.769170Z",
     "iopub.status.idle": "2022-07-15T09:16:42.297934Z",
     "shell.execute_reply": "2022-07-15T09:16:42.296765Z"
    },
    "papermill": {
     "duration": 0.547644,
     "end_time": "2022-07-15T09:16:42.300535",
     "exception": false,
     "start_time": "2022-07-15T09:16:41.752891",
     "status": "completed"
    },
    "tags": []
   },
   "outputs": [
    {
     "data": {
      "text/plain": [
       "<AxesSubplot:xlabel='hour', ylabel='count'>"
      ]
     },
     "execution_count": 10,
     "metadata": {},
     "output_type": "execute_result"
    },
    {
     "data": {
      "image/png": "[encoded data removed]",
      "text/plain": [
       "<Figure size 432x288 with 1 Axes>"
      ]
     },
     "metadata": {
      "needs_background": "light"
     },
     "output_type": "display_data"
    }
   ],
   "source": [
    "#非工作日\n",
    "sns.boxplot(x='hour',y='count',data=train[train['workingday'] == 0])"
   ]
  },
  {
   "cell_type": "markdown",
   "id": "715dce36",
   "metadata": {
    "papermill": {
     "duration": 0.013437,
     "end_time": "2022-07-15T09:16:42.327678",
     "exception": false,
     "start_time": "2022-07-15T09:16:42.314241",
     "status": "completed"
    },
    "tags": []
   },
   "source": [
    "可以发现，在工作日中的高峰期是早上8点和下午17点、18点；在非工作日中的高峰期是10点到19点。将这些时间段标记为高峰期。"
   ]
  },
  {
   "cell_type": "code",
   "execution_count": 11,
   "id": "bc59abf8",
   "metadata": {
    "ExecuteTime": {
     "end_time": "2022-05-25T13:04:25.102624Z",
     "start_time": "2022-05-25T13:04:19.709018Z"
    },
    "execution": {
     "iopub.execute_input": "2022-07-15T09:16:42.357265Z",
     "iopub.status.busy": "2022-07-15T09:16:42.356859Z",
     "iopub.status.idle": "2022-07-15T09:16:48.491461Z",
     "shell.execute_reply": "2022-07-15T09:16:48.490183Z"
    },
    "papermill": {
     "duration": 6.152409,
     "end_time": "2022-07-15T09:16:48.494172",
     "exception": false,
     "start_time": "2022-07-15T09:16:42.341763",
     "status": "completed"
    },
    "tags": []
   },
   "outputs": [
    {
     "data": {
      "text/plain": [
       "<AxesSubplot:xlabel='hour', ylabel='count'>"
      ]
     },
     "execution_count": 11,
     "metadata": {},
     "output_type": "execute_result"
    },
    {
     "data": {
      "image/png": "[encoded data removed]",
      "text/plain": [
       "<Figure size 432x288 with 1 Axes>"
      ]
     },
     "metadata": {
      "needs_background": "light"
     },
     "output_type": "display_data"
    }
   ],
   "source": [
    "#星期几对应的使用量。可以明显发现非工作日和工作日的使用曲线分别高度重合，具有普遍规律\n",
    "sns.pointplot(x='hour',y='count',hue='weekday',join=True,data=train)"
   ]
  },
  {
   "cell_type": "code",
   "execution_count": 12,
   "id": "7acb0a43",
   "metadata": {
    "execution": {
     "iopub.execute_input": "2022-07-15T09:16:48.525673Z",
     "iopub.status.busy": "2022-07-15T09:16:48.525307Z",
     "iopub.status.idle": "2022-07-15T09:16:49.297977Z",
     "shell.execute_reply": "2022-07-15T09:16:49.296858Z"
    },
    "papermill": {
     "duration": 0.791579,
     "end_time": "2022-07-15T09:16:49.300722",
     "exception": false,
     "start_time": "2022-07-15T09:16:48.509143",
     "status": "completed"
    },
    "tags": []
   },
   "outputs": [],
   "source": [
    "train['peak'] = train[['hour', 'workingday']].apply(lambda x: (0, 1)[(x['workingday'] == 1 and  ( x['hour'] == 8 or 17 <= x['hour'] <= 18  or 12 <= x['hour'] <= 13)) or (x['workingday'] == 0 and  10 <= x['hour'] <= 19)], axis = 1)\n",
    "test['peak'] = test[['hour', 'workingday']].apply(lambda x: (0, 1)[(x['workingday'] == 1 and  ( x['hour'] == 8 or 17 <= x['hour'] <= 18  or 12 <= x['hour'] <= 13)) or (x['workingday'] == 0 and  10 <= x['hour'] <= 19)], axis = 1)"
   ]
  },
  {
   "cell_type": "markdown",
   "id": "40c1ce82",
   "metadata": {
    "papermill": {
     "duration": 0.01443,
     "end_time": "2022-07-15T09:16:49.330163",
     "exception": false,
     "start_time": "2022-07-15T09:16:49.315733",
     "status": "completed"
    },
    "tags": []
   },
   "source": [
    "### 2. 不同月份对使用量的影响\n",
    "可以发现集中在夏季"
   ]
  },
  {
   "cell_type": "code",
   "execution_count": 13,
   "id": "5eaef71d",
   "metadata": {
    "ExecuteTime": {
     "end_time": "2022-05-25T13:04:15.844843Z",
     "start_time": "2022-05-25T13:04:15.586903Z"
    },
    "execution": {
     "iopub.execute_input": "2022-07-15T09:16:49.362003Z",
     "iopub.status.busy": "2022-07-15T09:16:49.361562Z",
     "iopub.status.idle": "2022-07-15T09:16:49.692180Z",
     "shell.execute_reply": "2022-07-15T09:16:49.691149Z"
    },
    "papermill": {
     "duration": 0.349665,
     "end_time": "2022-07-15T09:16:49.694864",
     "exception": false,
     "start_time": "2022-07-15T09:16:49.345199",
     "status": "completed"
    },
    "tags": []
   },
   "outputs": [
    {
     "data": {
      "text/plain": [
       "<AxesSubplot:xlabel='month', ylabel='count'>"
      ]
     },
     "execution_count": 13,
     "metadata": {},
     "output_type": "execute_result"
    },
    {
     "data": {
      "image/png": "[encoded data removed]",
      "text/plain": [
       "<Figure size 432x288 with 1 Axes>"
      ]
     },
     "metadata": {
      "needs_background": "light"
     },
     "output_type": "display_data"
    }
   ],
   "source": [
    "sns.boxplot(x='month',y='count',data=train)"
   ]
  },
  {
   "cell_type": "markdown",
   "id": "53173b2b",
   "metadata": {
    "papermill": {
     "duration": 0.014932,
     "end_time": "2022-07-15T09:16:49.725059",
     "exception": false,
     "start_time": "2022-07-15T09:16:49.710127",
     "status": "completed"
    },
    "tags": []
   },
   "source": [
    "### 3.不同天气\n",
    "可见天气情况对使用量有明显影响"
   ]
  },
  {
   "cell_type": "code",
   "execution_count": 14,
   "id": "cfd9c923",
   "metadata": {
    "ExecuteTime": {
     "end_time": "2022-05-25T13:04:16.298855Z",
     "start_time": "2022-05-25T13:04:15.997959Z"
    },
    "execution": {
     "iopub.execute_input": "2022-07-15T09:16:49.757123Z",
     "iopub.status.busy": "2022-07-15T09:16:49.756693Z",
     "iopub.status.idle": "2022-07-15T09:16:49.919596Z",
     "shell.execute_reply": "2022-07-15T09:16:49.918311Z"
    },
    "papermill": {
     "duration": 0.181916,
     "end_time": "2022-07-15T09:16:49.922024",
     "exception": false,
     "start_time": "2022-07-15T09:16:49.740108",
     "status": "completed"
    },
    "tags": []
   },
   "outputs": [
    {
     "data": {
      "text/plain": [
       "<AxesSubplot:xlabel='weather', ylabel='count'>"
      ]
     },
     "execution_count": 14,
     "metadata": {},
     "output_type": "execute_result"
    },
    {
     "data": {
      "image/png": "[encoded data removed]",
      "text/plain": [
       "<Figure size 432x288 with 1 Axes>"
      ]
     },
     "metadata": {
      "needs_background": "light"
     },
     "output_type": "display_data"
    }
   ],
   "source": [
    "sns.boxplot(x='weather',y='count',data=train)"
   ]
  },
  {
   "cell_type": "markdown",
   "id": "48886601",
   "metadata": {
    "papermill": {
     "duration": 0.015295,
     "end_time": "2022-07-15T09:16:49.959918",
     "exception": false,
     "start_time": "2022-07-15T09:16:49.944623",
     "status": "completed"
    },
    "tags": []
   },
   "source": [
    "### 4.星期几对使用量的影响\n",
    "可见工作日和非工作日有明显的差距；工作日之间没有显著的差距"
   ]
  },
  {
   "cell_type": "code",
   "execution_count": 15,
   "id": "ecaf9d7c",
   "metadata": {
    "ExecuteTime": {
     "end_time": "2022-05-25T13:04:16.496905Z",
     "start_time": "2022-05-25T13:04:16.301908Z"
    },
    "execution": {
     "iopub.execute_input": "2022-07-15T09:16:49.993123Z",
     "iopub.status.busy": "2022-07-15T09:16:49.992653Z",
     "iopub.status.idle": "2022-07-15T09:16:50.250187Z",
     "shell.execute_reply": "2022-07-15T09:16:50.248983Z"
    },
    "papermill": {
     "duration": 0.277272,
     "end_time": "2022-07-15T09:16:50.252745",
     "exception": false,
     "start_time": "2022-07-15T09:16:49.975473",
     "status": "completed"
    },
    "scrolled": true,
    "tags": []
   },
   "outputs": [
    {
     "data": {
      "text/plain": [
       "<AxesSubplot:xlabel='weekday', ylabel='count'>"
      ]
     },
     "execution_count": 15,
     "metadata": {},
     "output_type": "execute_result"
    },
    {
     "data": {
      "image/png": "[encoded data removed]",
      "text/plain": [
       "<Figure size 432x288 with 1 Axes>"
      ]
     },
     "metadata": {
      "needs_background": "light"
     },
     "output_type": "display_data"
    }
   ],
   "source": [
    "sns.boxplot(x='weekday',y='count',data=train)"
   ]
  },
  {
   "cell_type": "markdown",
   "id": "fe3fed50",
   "metadata": {
    "papermill": {
     "duration": 0.015679,
     "end_time": "2022-07-15T09:16:50.284539",
     "exception": false,
     "start_time": "2022-07-15T09:16:50.268860",
     "status": "completed"
    },
    "tags": []
   },
   "source": [
    "是否是工作日：可见工作日使用量明显高于非工作日"
   ]
  },
  {
   "cell_type": "code",
   "execution_count": 16,
   "id": "e543df37",
   "metadata": {
    "ExecuteTime": {
     "end_time": "2022-05-25T13:04:16.62711Z",
     "start_time": "2022-05-25T13:04:16.498792Z"
    },
    "execution": {
     "iopub.execute_input": "2022-07-15T09:16:50.318678Z",
     "iopub.status.busy": "2022-07-15T09:16:50.318269Z",
     "iopub.status.idle": "2022-07-15T09:16:50.493461Z",
     "shell.execute_reply": "2022-07-15T09:16:50.492212Z"
    },
    "papermill": {
     "duration": 0.195549,
     "end_time": "2022-07-15T09:16:50.496227",
     "exception": false,
     "start_time": "2022-07-15T09:16:50.300678",
     "status": "completed"
    },
    "tags": []
   },
   "outputs": [
    {
     "data": {
      "text/plain": [
       "<AxesSubplot:xlabel='workingday', ylabel='count'>"
      ]
     },
     "execution_count": 16,
     "metadata": {},
     "output_type": "execute_result"
    },
    {
     "data": {
      "image/png": "[encoded data removed]",
      "text/plain": [
       "<Figure size 432x288 with 1 Axes>"
      ]
     },
     "metadata": {
      "needs_background": "light"
     },
     "output_type": "display_data"
    }
   ],
   "source": [
    "sns.boxplot(x='workingday',y='count',data=train)"
   ]
  },
  {
   "cell_type": "markdown",
   "id": "8cc30e02",
   "metadata": {
    "papermill": {
     "duration": 0.01645,
     "end_time": "2022-07-15T09:16:50.529182",
     "exception": false,
     "start_time": "2022-07-15T09:16:50.512732",
     "status": "completed"
    },
    "tags": []
   },
   "source": [
    "### 5.是否注册用户\n",
    "可见注册用户具有和【工作日中的时间-使用量】相似的使用曲线；而非注册用户则具有和【非工作日中的时间-使用量】相似的使用曲线"
   ]
  },
  {
   "cell_type": "code",
   "execution_count": 17,
   "id": "629bb951",
   "metadata": {
    "ExecuteTime": {
     "end_time": "2022-05-25T13:04:26.904869Z",
     "start_time": "2022-05-25T13:04:25.10549Z"
    },
    "execution": {
     "iopub.execute_input": "2022-07-15T09:16:50.564023Z",
     "iopub.status.busy": "2022-07-15T09:16:50.563623Z",
     "iopub.status.idle": "2022-07-15T09:16:52.624574Z",
     "shell.execute_reply": "2022-07-15T09:16:52.623427Z"
    },
    "papermill": {
     "duration": 2.081194,
     "end_time": "2022-07-15T09:16:52.627186",
     "exception": false,
     "start_time": "2022-07-15T09:16:50.545992",
     "status": "completed"
    },
    "tags": []
   },
   "outputs": [
    {
     "data": {
      "text/plain": [
       "<AxesSubplot:xlabel='hour', ylabel='casual'>"
      ]
     },
     "execution_count": 17,
     "metadata": {},
     "output_type": "execute_result"
    },
    {
     "data": {
      "image/png": "[encoded data removed]",
      "text/plain": [
       "<Figure size 432x288 with 1 Axes>"
      ]
     },
     "metadata": {
      "needs_background": "light"
     },
     "output_type": "display_data"
    }
   ],
   "source": [
    "sns.pointplot(x='hour',y='registered',hue=None,join=True,data=train)\n",
    "sns.pointplot(x='hour',y='casual',hue=None,join=True,data=train)"
   ]
  },
  {
   "cell_type": "markdown",
   "id": "727221e0",
   "metadata": {
    "papermill": {
     "duration": 0.01678,
     "end_time": "2022-07-15T09:16:52.661090",
     "exception": false,
     "start_time": "2022-07-15T09:16:52.644310",
     "status": "completed"
    },
    "tags": []
   },
   "source": [
    "进一步分析可以发现，和注册用户相比，非注册用户更倾向于在非工作日中使用自行车"
   ]
  },
  {
   "cell_type": "code",
   "execution_count": 18,
   "id": "0d31938b",
   "metadata": {
    "execution": {
     "iopub.execute_input": "2022-07-15T09:16:52.696695Z",
     "iopub.status.busy": "2022-07-15T09:16:52.696309Z",
     "iopub.status.idle": "2022-07-15T09:16:54.843665Z",
     "shell.execute_reply": "2022-07-15T09:16:54.841920Z"
    },
    "papermill": {
     "duration": 2.16918,
     "end_time": "2022-07-15T09:16:54.847290",
     "exception": false,
     "start_time": "2022-07-15T09:16:52.678110",
     "status": "completed"
    },
    "tags": []
   },
   "outputs": [
    {
     "data": {
      "text/plain": [
       "<AxesSubplot:xlabel='hour', ylabel='registered'>"
      ]
     },
     "execution_count": 18,
     "metadata": {},
     "output_type": "execute_result"
    },
    {
     "data": {
      "image/png": "[encoded data removed]",
      "text/plain": [
       "<Figure size 432x288 with 1 Axes>"
      ]
     },
     "metadata": {
      "needs_background": "light"
     },
     "output_type": "display_data"
    }
   ],
   "source": [
    "#注册用户\n",
    "sns.pointplot(x='hour',y='registered',hue='workingday',join=True,data=train)"
   ]
  },
  {
   "cell_type": "code",
   "execution_count": 19,
   "id": "652487c4",
   "metadata": {
    "execution": {
     "iopub.execute_input": "2022-07-15T09:16:54.907271Z",
     "iopub.status.busy": "2022-07-15T09:16:54.906858Z",
     "iopub.status.idle": "2022-07-15T09:16:57.017294Z",
     "shell.execute_reply": "2022-07-15T09:16:57.015907Z"
    },
    "papermill": {
     "duration": 2.143776,
     "end_time": "2022-07-15T09:16:57.020139",
     "exception": false,
     "start_time": "2022-07-15T09:16:54.876363",
     "status": "completed"
    },
    "tags": []
   },
   "outputs": [
    {
     "data": {
      "text/plain": [
       "<AxesSubplot:xlabel='hour', ylabel='casual'>"
      ]
     },
     "execution_count": 19,
     "metadata": {},
     "output_type": "execute_result"
    },
    {
     "data": {
      "image/png": "[encoded data removed]",
      "text/plain": [
       "<Figure size 432x288 with 1 Axes>"
      ]
     },
     "metadata": {
      "needs_background": "light"
     },
     "output_type": "display_data"
    }
   ],
   "source": [
    "#非注册用户\n",
    "sns.pointplot(x='hour',y='casual',hue='workingday',join=True,data=train)"
   ]
  },
  {
   "cell_type": "markdown",
   "id": "4aa28992",
   "metadata": {
    "papermill": {
     "duration": 0.019673,
     "end_time": "2022-07-15T09:16:57.061125",
     "exception": false,
     "start_time": "2022-07-15T09:16:57.041452",
     "status": "completed"
    },
    "tags": []
   },
   "source": [
    "### 6.环境对使用量的影响"
   ]
  },
  {
   "cell_type": "code",
   "execution_count": 20,
   "id": "fe85fae9",
   "metadata": {
    "ExecuteTime": {
     "end_time": "2022-05-25T13:04:29.398915Z",
     "start_time": "2022-05-25T13:04:26.908887Z"
    },
    "execution": {
     "iopub.execute_input": "2022-07-15T09:16:57.102621Z",
     "iopub.status.busy": "2022-07-15T09:16:57.102045Z",
     "iopub.status.idle": "2022-07-15T09:16:59.016442Z",
     "shell.execute_reply": "2022-07-15T09:16:59.015169Z"
    },
    "papermill": {
     "duration": 1.938286,
     "end_time": "2022-07-15T09:16:59.019154",
     "exception": false,
     "start_time": "2022-07-15T09:16:57.080868",
     "status": "completed"
    },
    "tags": []
   },
   "outputs": [
    {
     "data": {
      "text/plain": [
       "([<matplotlib.axis.XTick at 0x7f8bdd8b8a10>,\n",
       "  <matplotlib.axis.XTick at 0x7f8bdd8b8690>,\n",
       "  <matplotlib.axis.XTick at 0x7f8bdd8b8650>,\n",
       "  <matplotlib.axis.XTick at 0x7f8bdd82c5d0>,\n",
       "  <matplotlib.axis.XTick at 0x7f8bdd82c990>],\n",
       " [Text(0, 0, '0.82'),\n",
       "  Text(1, 0, '1.64'),\n",
       "  Text(2, 0, '2.46'),\n",
       "  Text(3, 0, '3.28'),\n",
       "  Text(4, 0, '4.1')])"
      ]
     },
     "execution_count": 20,
     "metadata": {},
     "output_type": "execute_result"
    },
    {
     "data": {
      "image/png": "[encoded data removed]",
      "text/plain": [
       "<Figure size 1152x288 with 1 Axes>"
      ]
     },
     "metadata": {
      "needs_background": "light"
     },
     "output_type": "display_data"
    }
   ],
   "source": [
    "#温度--使用量\n",
    "fig = plt.subplots(figsize=(16,4))\n",
    "sns.pointplot(x='temp',y='count',join=True,data=train)\n",
    "plt.xticks([0,10,20,30,40])"
   ]
  },
  {
   "cell_type": "code",
   "execution_count": 21,
   "id": "2fe13880",
   "metadata": {
    "ExecuteTime": {
     "end_time": "2022-05-25T13:04:32.010842Z",
     "start_time": "2022-05-25T13:04:29.401075Z"
    },
    "execution": {
     "iopub.execute_input": "2022-07-15T09:16:59.062311Z",
     "iopub.status.busy": "2022-07-15T09:16:59.061902Z",
     "iopub.status.idle": "2022-07-15T09:17:01.331645Z",
     "shell.execute_reply": "2022-07-15T09:17:01.330566Z"
    },
    "papermill": {
     "duration": 2.292623,
     "end_time": "2022-07-15T09:17:01.334006",
     "exception": false,
     "start_time": "2022-07-15T09:16:59.041383",
     "status": "completed"
    },
    "tags": []
   },
   "outputs": [
    {
     "data": {
      "text/plain": [
       "([<matplotlib.axis.XTick at 0x7f8bdda3ef50>,\n",
       "  <matplotlib.axis.XTick at 0x7f8bdd763590>,\n",
       "  <matplotlib.axis.XTick at 0x7f8bdd75ca90>,\n",
       "  <matplotlib.axis.XTick at 0x7f8bdd665e50>,\n",
       "  <matplotlib.axis.XTick at 0x7f8bdd6746d0>],\n",
       " [Text(0, 0, '0.76'),\n",
       "  Text(1, 0, '1.515'),\n",
       "  Text(2, 0, '2.275'),\n",
       "  Text(3, 0, '3.03'),\n",
       "  Text(4, 0, '3.79')])"
      ]
     },
     "execution_count": 21,
     "metadata": {},
     "output_type": "execute_result"
    },
    {
     "data": {
      "image/png": "[encoded data removed]",
      "text/plain": [
       "<Figure size 1152x288 with 1 Axes>"
      ]
     },
     "metadata": {
      "needs_background": "light"
     },
     "output_type": "display_data"
    }
   ],
   "source": [
    "#体感温度--使用量\n",
    "fig = plt.subplots(figsize=(16,4))\n",
    "sns.pointplot(x='atemp',y='count',join=True,data=train)\n",
    "plt.xticks([0,10,20,30,40])"
   ]
  },
  {
   "cell_type": "code",
   "execution_count": 22,
   "id": "d3014fc6",
   "metadata": {
    "ExecuteTime": {
     "end_time": "2022-05-25T13:04:34.868518Z",
     "start_time": "2022-05-25T13:04:32.041975Z"
    },
    "execution": {
     "iopub.execute_input": "2022-07-15T09:17:01.374763Z",
     "iopub.status.busy": "2022-07-15T09:17:01.374278Z",
     "iopub.status.idle": "2022-07-15T09:17:04.605341Z",
     "shell.execute_reply": "2022-07-15T09:17:04.604113Z"
    },
    "papermill": {
     "duration": 3.254073,
     "end_time": "2022-07-15T09:17:04.607591",
     "exception": false,
     "start_time": "2022-07-15T09:17:01.353518",
     "status": "completed"
    },
    "tags": []
   },
   "outputs": [
    {
     "data": {
      "text/plain": [
       "([<matplotlib.axis.XTick at 0x7f8bdd7882d0>,\n",
       "  <matplotlib.axis.XTick at 0x7f8bdd547490>,\n",
       "  <matplotlib.axis.XTick at 0x7f8bdd5ab710>,\n",
       "  <matplotlib.axis.XTick at 0x7f8bdd420bd0>,\n",
       "  <matplotlib.axis.XTick at 0x7f8bdd42d5d0>,\n",
       "  <matplotlib.axis.XTick at 0x7f8bdd42d510>,\n",
       "  <matplotlib.axis.XTick at 0x7f8bdd3b5450>,\n",
       "  <matplotlib.axis.XTick at 0x7f8bdd3b5390>,\n",
       "  <matplotlib.axis.XTick at 0x7f8bdd3be290>,\n",
       "  <matplotlib.axis.XTick at 0x7f8bdd3b5a50>],\n",
       " [Text(0, 0, '0'),\n",
       "  Text(1, 0, '8'),\n",
       "  Text(2, 0, '10'),\n",
       "  Text(3, 0, '12'),\n",
       "  Text(4, 0, '13'),\n",
       "  Text(5, 0, '14'),\n",
       "  Text(6, 0, '15'),\n",
       "  Text(7, 0, '16'),\n",
       "  Text(8, 0, '17'),\n",
       "  Text(9, 0, '18')])"
      ]
     },
     "execution_count": 22,
     "metadata": {},
     "output_type": "execute_result"
    },
    {
     "data": {
      "image/png": "[encoded data removed]",
      "text/plain": [
       "<Figure size 1152x288 with 1 Axes>"
      ]
     },
     "metadata": {
      "needs_background": "light"
     },
     "output_type": "display_data"
    }
   ],
   "source": [
    "#湿度-使用量\n",
    "fig = plt.subplots(figsize=(16,4))\n",
    "sns.pointplot(x='humidity',y='count',join=True,data=train)\n",
    "plt.xticks([0,10,20,30,40,50,60,70,80,90])"
   ]
  },
  {
   "cell_type": "code",
   "execution_count": 23,
   "id": "67e3adc4",
   "metadata": {
    "ExecuteTime": {
     "end_time": "2022-05-25T13:04:37.776015Z",
     "start_time": "2022-05-25T13:04:34.871944Z"
    },
    "execution": {
     "iopub.execute_input": "2022-07-15T09:17:04.651197Z",
     "iopub.status.busy": "2022-07-15T09:17:04.650748Z",
     "iopub.status.idle": "2022-07-15T09:17:05.839866Z",
     "shell.execute_reply": "2022-07-15T09:17:05.838726Z"
    },
    "papermill": {
     "duration": 1.213918,
     "end_time": "2022-07-15T09:17:05.842173",
     "exception": false,
     "start_time": "2022-07-15T09:17:04.628255",
     "status": "completed"
    },
    "tags": []
   },
   "outputs": [
    {
     "data": {
      "text/plain": [
       "([<matplotlib.axis.XTick at 0x7f8bdd2bac50>,\n",
       "  <matplotlib.axis.XTick at 0x7f8bdd2ba8d0>,\n",
       "  <matplotlib.axis.XTick at 0x7f8bdd2ba890>,\n",
       "  <matplotlib.axis.XTick at 0x7f8bdd25b110>,\n",
       "  <matplotlib.axis.XTick at 0x7f8bdd25b4d0>,\n",
       "  <matplotlib.axis.XTick at 0x7f8bdd25b190>],\n",
       " [Text(0, 0, '0.0'),\n",
       "  Text(1, 0, '6.0032'),\n",
       "  Text(2, 0, '7.0015'),\n",
       "  Text(3, 0, '8.9981'),\n",
       "  Text(4, 0, '11.0014'),\n",
       "  Text(5, 0, '12.998')])"
      ]
     },
     "execution_count": 23,
     "metadata": {},
     "output_type": "execute_result"
    },
    {
     "data": {
      "image/png": "[encoded data removed]",
      "text/plain": [
       "<Figure size 1152x288 with 1 Axes>"
      ]
     },
     "metadata": {
      "needs_background": "light"
     },
     "output_type": "display_data"
    }
   ],
   "source": [
    "#风速-使用量\n",
    "fig = plt.subplots(figsize=(16,4))\n",
    "sns.pointplot(x='windspeed',y='count',join=True,data=train)\n",
    "plt.xticks([0,5,10,15,20,25])"
   ]
  },
  {
   "cell_type": "markdown",
   "id": "6684bb40",
   "metadata": {
    "papermill": {
     "duration": 0.0214,
     "end_time": "2022-07-15T09:17:05.884965",
     "exception": false,
     "start_time": "2022-07-15T09:17:05.863565",
     "status": "completed"
    },
    "tags": []
   },
   "source": [
    "## 相关性分析\n",
    "对连续型变量分析其相关性，可见体感温度和温度有极大的相关性。事实上，体感温度取决于温度和湿度，因而可以直接去除体感温度。"
   ]
  },
  {
   "cell_type": "code",
   "execution_count": 24,
   "id": "1a1b9109",
   "metadata": {
    "ExecuteTime": {
     "end_time": "2022-05-25T13:04:38.093934Z",
     "start_time": "2022-05-25T13:04:37.800695Z"
    },
    "execution": {
     "iopub.execute_input": "2022-07-15T09:17:05.930142Z",
     "iopub.status.busy": "2022-07-15T09:17:05.929718Z",
     "iopub.status.idle": "2022-07-15T09:17:06.230472Z",
     "shell.execute_reply": "2022-07-15T09:17:06.229209Z"
    },
    "papermill": {
     "duration": 0.326949,
     "end_time": "2022-07-15T09:17:06.233520",
     "exception": false,
     "start_time": "2022-07-15T09:17:05.906571",
     "status": "completed"
    },
    "tags": []
   },
   "outputs": [
    {
     "data": {
      "text/plain": [
       "<AxesSubplot:>"
      ]
     },
     "execution_count": 24,
     "metadata": {},
     "output_type": "execute_result"
    },
    {
     "data": {
      "image/png": "[encoded data removed]",
      "text/plain": [
       "<Figure size 1080x576 with 2 Axes>"
      ]
     },
     "metadata": {
      "needs_background": "light"
     },
     "output_type": "display_data"
    }
   ],
   "source": [
    "corr = train[['count','temp','atemp','humidity','windspeed']].corr()\n",
    "mask = np.array(corr)\n",
    "mask[np.tril_indices_from(mask)] = False\n",
    "fig,ax = plt.subplots()\n",
    "fig.set_size_inches(15,8)\n",
    "sns.heatmap(corr,mask=mask,vmax=.8,square=True,annot=True)"
   ]
  },
  {
   "cell_type": "code",
   "execution_count": 25,
   "id": "f6ad8b9d",
   "metadata": {
    "execution": {
     "iopub.execute_input": "2022-07-15T09:17:06.279582Z",
     "iopub.status.busy": "2022-07-15T09:17:06.278898Z",
     "iopub.status.idle": "2022-07-15T09:17:06.285325Z",
     "shell.execute_reply": "2022-07-15T09:17:06.284245Z"
    },
    "papermill": {
     "duration": 0.031785,
     "end_time": "2022-07-15T09:17:06.287464",
     "exception": false,
     "start_time": "2022-07-15T09:17:06.255679",
     "status": "completed"
    },
    "tags": []
   },
   "outputs": [
    {
     "data": {
      "text/plain": [
       "Index(['datetime', 'season', 'holiday', 'workingday', 'weather', 'temp',\n",
       "       'atemp', 'humidity', 'windspeed', 'casual', 'registered', 'count',\n",
       "       'casual_log', 'registered_log', 'count_log', 'year', 'month', 'day',\n",
       "       'hour', 'week', 'weekday', 'peak'],\n",
       "      dtype='object')"
      ]
     },
     "execution_count": 25,
     "metadata": {},
     "output_type": "execute_result"
    }
   ],
   "source": [
    "train.columns"
   ]
  },
  {
   "cell_type": "markdown",
   "id": "53c0e5a6",
   "metadata": {
    "papermill": {
     "duration": 0.021458,
     "end_time": "2022-07-15T09:17:06.330872",
     "exception": false,
     "start_time": "2022-07-15T09:17:06.309414",
     "status": "completed"
    },
    "tags": []
   },
   "source": [
    "## 训练\n",
    "由于注册用户与未注册用户在特征上明显不同，所以分开预测casual和registered，结果再将两者合并即可。casual + registered = count。\n",
    "\n",
    "采用xgboost+random forest，虽然包括random forest在内的模型在cross validation上表现很不错，但实际上还是存在过拟合，且使用随机交换特征等数据增强的效果也不怎么好。由于这两种模型都是tree-based的方法，它们**不适合使用包括one-hot以及异常值去除等**数据处理方式，甚至也不需要归一化，只需要将数据处理得尽可能接近正态分布即可（取log）"
   ]
  },
  {
   "cell_type": "code",
   "execution_count": 26,
   "id": "59db92b0",
   "metadata": {
    "ExecuteTime": {
     "end_time": "2022-05-25T13:04:39.427637Z",
     "start_time": "2022-05-25T13:04:39.409742Z"
    },
    "execution": {
     "iopub.execute_input": "2022-07-15T09:17:06.379045Z",
     "iopub.status.busy": "2022-07-15T09:17:06.378332Z",
     "iopub.status.idle": "2022-07-15T09:17:06.383695Z",
     "shell.execute_reply": "2022-07-15T09:17:06.382942Z"
    },
    "papermill": {
     "duration": 0.032488,
     "end_time": "2022-07-15T09:17:06.385987",
     "exception": false,
     "start_time": "2022-07-15T09:17:06.353499",
     "status": "completed"
    },
    "tags": []
   },
   "outputs": [],
   "source": [
    "rf_columns = [\n",
    "    'weather', 'temp', 'windspeed',\n",
    "    'workingday', 'season', 'holiday',\n",
    "    'hour', 'weekday', 'week', 'peak',\n",
    "]\n",
    "gb_columns =[\n",
    "    'weather', 'temp', 'humidity', 'windspeed',\n",
    "    'holiday', 'workingday', 'season',\n",
    "    'hour', 'weekday', 'year', \n",
    "]"
   ]
  },
  {
   "cell_type": "code",
   "execution_count": 27,
   "id": "869f2eea",
   "metadata": {
    "ExecuteTime": {
     "end_time": "2022-05-25T13:04:39.519326Z",
     "start_time": "2022-05-25T13:04:39.429632Z"
    },
    "execution": {
     "iopub.execute_input": "2022-07-15T09:17:06.431742Z",
     "iopub.status.busy": "2022-07-15T09:17:06.431058Z",
     "iopub.status.idle": "2022-07-15T09:17:06.443257Z",
     "shell.execute_reply": "2022-07-15T09:17:06.442109Z"
    },
    "papermill": {
     "duration": 0.037797,
     "end_time": "2022-07-15T09:17:06.445660",
     "exception": false,
     "start_time": "2022-07-15T09:17:06.407863",
     "status": "completed"
    },
    "tags": []
   },
   "outputs": [],
   "source": [
    "#训练数据\n",
    "rf_x_train=train[rf_columns].values\n",
    "rf_x_test=test[rf_columns].values\n",
    "\n",
    "gb_x_train=train[gb_columns].values\n",
    "gb_x_test=test[gb_columns].values\n",
    "\n",
    "y_casual=train['casual_log'].values\n",
    "y_registered=train['registered_log'].values\n",
    "y=train['count_log'].values\n",
    "\n",
    "x_date=test['datetime'].values"
   ]
  },
  {
   "cell_type": "code",
   "execution_count": 28,
   "id": "c5a17610",
   "metadata": {
    "ExecuteTime": {
     "end_time": "2022-05-25T13:11:38.03917Z",
     "start_time": "2022-05-25T13:06:09.483007Z"
    },
    "execution": {
     "iopub.execute_input": "2022-07-15T09:17:06.491312Z",
     "iopub.status.busy": "2022-07-15T09:17:06.490603Z",
     "iopub.status.idle": "2022-07-15T09:17:28.094089Z",
     "shell.execute_reply": "2022-07-15T09:17:28.092513Z"
    },
    "papermill": {
     "duration": 21.629528,
     "end_time": "2022-07-15T09:17:28.097029",
     "exception": false,
     "start_time": "2022-07-15T09:17:06.467501",
     "status": "completed"
    },
    "tags": []
   },
   "outputs": [
    {
     "name": "stdout",
     "output_type": "stream",
     "text": [
      "casual: 0.9726067525351507\n",
      "registered: 0.9808557797583348\n"
     ]
    }
   ],
   "source": [
    "#random forest\n",
    "from sklearn.ensemble import RandomForestRegressor\n",
    "params = {'n_estimators': 1000, \n",
    "          'max_depth': 15, \n",
    "          'random_state': 0, \n",
    "          'min_samples_split' : 2, #为什么设为2：（1）因为存在0-1变量（2）存在过拟合\n",
    "          'n_jobs': -1}\n",
    "\n",
    "rf_c = RandomForestRegressor(**params)\n",
    "rf_c.fit(rf_x_train,y_casual)\n",
    "print('casual:',rf_c.score(rf_x_train,y_casual))\n",
    "\n",
    "rf_r = RandomForestRegressor(**params)\n",
    "rf_r.fit(rf_x_train,y_registered)\n",
    "print('registered:',rf_r.score(rf_x_train,y_registered))"
   ]
  },
  {
   "cell_type": "code",
   "execution_count": 29,
   "id": "b19021dc",
   "metadata": {
    "execution": {
     "iopub.execute_input": "2022-07-15T09:17:28.155875Z",
     "iopub.status.busy": "2022-07-15T09:17:28.155357Z",
     "iopub.status.idle": "2022-07-15T09:17:31.733091Z",
     "shell.execute_reply": "2022-07-15T09:17:31.732084Z"
    },
    "papermill": {
     "duration": 3.615346,
     "end_time": "2022-07-15T09:17:31.736127",
     "exception": false,
     "start_time": "2022-07-15T09:17:28.120781",
     "status": "completed"
    },
    "tags": []
   },
   "outputs": [
    {
     "name": "stdout",
     "output_type": "stream",
     "text": [
      "casual: 0.9235170841306428\n",
      "registered: 0.9712917213282761\n"
     ]
    }
   ],
   "source": [
    "#xgb\n",
    "import xgboost as xgb\n",
    "xgb_c = xgb.XGBRegressor(max_depth=5, learning_rate=0.1, random_state = 0,n_estimators=200)\n",
    "xgb_c.fit(gb_x_train, y_casual)\n",
    "print('casual:',xgb_c.score(gb_x_train,y_casual))\n",
    "\n",
    "xgb_r = xgb.XGBRegressor(max_depth=5, learning_rate=0.1, random_state = 0,n_estimators=200)\n",
    "xgb_r.fit(gb_x_train, y_registered)\n",
    "print('registered:',xgb_r.score(gb_x_train,y_registered))"
   ]
  },
  {
   "cell_type": "code",
   "execution_count": 30,
   "id": "76154f80",
   "metadata": {
    "execution": {
     "iopub.execute_input": "2022-07-15T09:17:31.783741Z",
     "iopub.status.busy": "2022-07-15T09:17:31.782789Z",
     "iopub.status.idle": "2022-07-15T09:17:34.882566Z",
     "shell.execute_reply": "2022-07-15T09:17:34.881211Z"
    },
    "papermill": {
     "duration": 3.126192,
     "end_time": "2022-07-15T09:17:34.885357",
     "exception": false,
     "start_time": "2022-07-15T09:17:31.759165",
     "status": "completed"
    },
    "tags": []
   },
   "outputs": [
    {
     "name": "stdout",
     "output_type": "stream",
     "text": [
      "casual: 0.9195514835772132\n",
      "registered: 0.968499680058303\n"
     ]
    }
   ],
   "source": [
    "#GB（没有xgb的效果好，弃之）\n",
    "from sklearn.ensemble import GradientBoostingRegressor\n",
    "\n",
    "params2 = {'n_estimators': 150, \n",
    "           'max_depth': 5, \n",
    "           'random_state': 0, \n",
    "           'min_samples_leaf' : 10, \n",
    "           'learning_rate': 0.1, \n",
    "           'subsample': 0.7, \n",
    "           'loss': 'ls'}\n",
    "\n",
    "gb_c = GradientBoostingRegressor(**params2)\n",
    "gb_c.fit(gb_x_train,y_casual)\n",
    "print('casual:',gb_c.score(gb_x_train,y_casual))\n",
    "\n",
    "gb_r = GradientBoostingRegressor(**params2)\n",
    "gb_r.fit(gb_x_train,y_registered)\n",
    "print('registered:',gb_r.score(gb_x_train,y_registered))"
   ]
  },
  {
   "cell_type": "code",
   "execution_count": 31,
   "id": "1e82b094",
   "metadata": {
    "execution": {
     "iopub.execute_input": "2022-07-15T09:17:34.933174Z",
     "iopub.status.busy": "2022-07-15T09:17:34.932744Z",
     "iopub.status.idle": "2022-07-15T09:17:35.613134Z",
     "shell.execute_reply": "2022-07-15T09:17:35.612062Z"
    },
    "papermill": {
     "duration": 0.707405,
     "end_time": "2022-07-15T09:17:35.615733",
     "exception": false,
     "start_time": "2022-07-15T09:17:34.908328",
     "status": "completed"
    },
    "tags": []
   },
   "outputs": [],
   "source": [
    "rf_pre_count = np.exp(xgb_c.predict(gb_x_test))+np.exp(rf_r.predict(rf_x_test))-2\n",
    "xgb_pre_count = np.exp(xgb_c.predict(gb_x_test))+np.exp(xgb_r.predict(gb_x_test))-2\n",
    "\n",
    "pre_count=np.round(0.2*rf_pre_count+0.8*xgb_pre_count,0)#最后记得round一下\n",
    "submit = pd.DataFrame({'datetime':x_date,'count':pre_count})\n",
    "submit.to_csv('/kaggle/working/submisssion.csv',index=False)"
   ]
  },
  {
   "cell_type": "code",
   "execution_count": null,
   "id": "df736a81",
   "metadata": {
    "papermill": {
     "duration": 0.022069,
     "end_time": "2022-07-15T09:17:35.660085",
     "exception": false,
     "start_time": "2022-07-15T09:17:35.638016",
     "status": "completed"
    },
    "tags": []
   },
   "outputs": [],
   "source": []
  }
 ],
 "metadata": {
  "kernelspec": {
   "display_name": "Python 3",
   "language": "python",
   "name": "python3"
  },
  "language_info": {
   "codemirror_mode": {
    "name": "ipython",
    "version": 3
   },
   "file_extension": ".py",
   "mimetype": "text/x-python",
   "name": "python",
   "nbconvert_exporter": "python",
   "pygments_lexer": "ipython3",
   "version": "3.7.12"
  },
  "papermill": {
   "default_parameters": {},
   "duration": 67.409859,
   "end_time": "2022-07-15T09:17:36.704981",
   "environment_variables": {},
   "exception": null,
   "input_path": "__notebook__.ipynb",
   "output_path": "__notebook__.ipynb",
   "parameters": {},
   "start_time": "2022-07-15T09:16:29.295122",
   "version": "2.3.4"
  }
 },
 "nbformat": 4,
 "nbformat_minor": 5
}
